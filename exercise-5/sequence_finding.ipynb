{
 "cells": [
  {
   "cell_type": "code",
   "execution_count": 2,
   "metadata": {
    "collapsed": false
   },
   "outputs": [],
   "source": [
    "import re\n",
    "\n",
    "with open(\"/home/eeb177-student/Desktop/eeb-177/CSB/unix/data/Marra2014_data.fasta\",\"r\") as file:\n",
    "    contiglist=[]\n",
    "    for contig in file:\n",
    "        if (re.match(pattern=\">\", string=contig)):\n",
    "            contig_name = re.search(\">(\\w*)\\s.*\", contig).group(1)\n",
    "            contiglist.append(contig_name)\n",
    "        \n",
    "with open(\"/home/eeb177-student/Desktop/eeb-177/CSB/unix/data/Marra2014_data.fasta\",\"r\") as file:\n",
    "    seqnumber=[]\n",
    "    fileread=file.read()\n",
    "    fileread=fileread.upper()\n",
    "    filelist=fileread.replace(\"\\n\",\"\")\n",
    "    filelist=filelist.split(\">\")\n",
    "    numberlist=[]\n",
    "    for seq in filelist:\n",
    "        result=re.findall(\"AATG\" , str(seq))\n",
    "        seqnumber.append(result)\n",
    "\n",
    "    for indexnumber in range(1,956):\n",
    "        numberlist.append(len(seqnumber[indexnumber]))\n",
    "        \n",
    "#finaldict=dict(zip(contiglist,numberlist))\n",
    "f=open(\"/home/eeb177-student/Desktop/eeb-177/lab-work/exercise-5/sequence_finding.csv\",\"w\")\n",
    "i=0\n",
    "while i<955:\n",
    "    f.write(str(contiglist[i])+\",\"+str(numberlist[i])+\"\\n\")\n",
    "    i=i+1\n",
    "    \n",
    "f.close()"
   ]
  }
 ],
 "metadata": {
  "anaconda-cloud": {},
  "kernelspec": {
   "display_name": "Python [default]",
   "language": "python",
   "name": "python3"
  },
  "language_info": {
   "codemirror_mode": {
    "name": "ipython",
    "version": 3
   },
   "file_extension": ".py",
   "mimetype": "text/x-python",
   "name": "python",
   "nbconvert_exporter": "python",
   "pygments_lexer": "ipython3",
   "version": "3.5.2"
  }
 },
 "nbformat": 4,
 "nbformat_minor": 2
}
