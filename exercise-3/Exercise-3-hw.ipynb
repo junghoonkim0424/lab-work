{
 "cells": [
  {
   "cell_type": "code",
   "execution_count": 1,
   "metadata": {
    "collapsed": false,
    "scrolled": false
   },
   "outputs": [],
   "source": [
    "#1. Create a new ipython notebook in your exercise-3 folder within lab-work. Call this file \"Exercise-3-hw\". \n",
    "#2. Define the following variables in your new ipython notebook:\n",
    "a = 3\n",
    "b = 17\n",
    "c = a+b\n",
    "favorite_animal = \"cat\"\n",
    "favorite_dinners = [\"apple\",\"milk\",\"banana\"]\n",
    "num_fav_dinners= len(favorite_dinners)\n"
   ]
  },
  {
   "cell_type": "code",
   "execution_count": 2,
   "metadata": {
    "collapsed": false,
    "scrolled": true
   },
   "outputs": [
    {
     "name": "stdout",
     "output_type": "stream",
     "text": [
      "What a pleasant temperature!\n"
     ]
    }
   ],
   "source": [
    "#3. Write a function named \"hw3_function\". This function must meet the following criteria: \n",
    "#The function should take an integer as an input. If the user runs the function with something that is not an integer, your function should print an error message.\n",
    "\n",
    "#If the integer is less than 5, return the message \"Brr! It's cold!\"\n",
    "#If the integer is greater than 25, return the message \"It's pretty warm!\"\n",
    "#If the integer is between 5 and 25, return the message \"What a pleasant temperature!\"\n",
    "\n",
    "#For example, hw3_function(\"duck\") should return an error\n",
    "#For example, hw3_function(17) should return \"What a pleasant temperature!\"\n",
    "\n",
    "def hw3_function(integer):\n",
    "    if (type(integer)== str):\n",
    "        return (\"ERROR\")\n",
    "    elif (integer< 5):\n",
    "        return print(\"Brr! It's cold!\")\n",
    "    elif (integer >25):\n",
    "        return print(\"It's pretty warm!\")\n",
    "    elif ((integer >= 5) & (integer <= 25)):\n",
    "        return print(\"What a pleasant temperature!\")\n",
    "\n",
    "#hw3_function(\"wrong input\")\n",
    "hw3_function(20)\n",
    "\n"
   ]
  },
  {
   "cell_type": "code",
   "execution_count": 1,
   "metadata": {
    "collapsed": false
   },
   "outputs": [],
   "source": [
    "#4. Consider the DNA string \"ATAATTAACGGAGCTTATTA\". Write a python regular expression that will search for the patter \n",
    "#\"G, A or T, A or T, G, A or T or G or C\".\n",
    "import re\n",
    "dna = \"ATAATTAACGGAGCTTATTA\"\n",
    "if re.search(r\"G(A|T)(A|T)G(A|T|G|C)\",dna):\n",
    "    print (\"Pattern found!\")"
   ]
  },
  {
   "cell_type": "code",
   "execution_count": null,
   "metadata": {
    "collapsed": false
   },
   "outputs": [
    {
     "name": "stdout",
     "output_type": "stream",
     "text": [
      "Enter your choice (rock/paper/scissors): rock\n",
      "you picked rock; Computer picked rock; tie!\n",
      "Finish? Yes or No: no\n",
      "Enter your choice (rock/paper/scissors): scissors\n",
      "you picked scissors; Computer picked rock; +1 for computer\n"
     ]
    }
   ],
   "source": [
    "#5. Write a function that plays \"Rock Paper Scissors\" with the user. Your functions should meet the following criteria:\n",
    "\n",
    "#The function shold be named \"rps\"\n",
    "\n",
    "#The user must input the words \"rock\" or \"paper\" or \"scissors\" into the function. If the user enters anything else, the function should print a statement asking the user to run it again properly.\n",
    "\n",
    "#The function should randomly select one of \"rock, paper, scissors\" each time it is run. Hint: you wil have to use the \"choice\" function in the \"random\" library to select from a list each time. Feel free to google for advice on this.\n",
    "\n",
    "#The function should follow the standard rules of rock paper scissors (\"rock beats scissors; scissors beats paper; paper beats rock; tie of both the same\") to determine a winner.\n",
    "\n",
    "#The function should return a string of the following format: \"You picked <user_choice>; Computer picked <random_choice>; +1 for <You or Computer>!\"\n",
    "\n",
    "#For example, rps(\"rock\") can return either one of the three sentences, depending on which is sampled randomly:\n",
    "#\"You picked rock; Computer picked rock; this is a tie!\"\n",
    "#\"You picked rock; Computer picked paper; +1 for Computer!\"\n",
    "#\"You picked rock; Computer picked scissors; +1 for You!\n",
    "\n",
    "\n",
    "import random\n",
    "\n",
    "\n",
    "rps = True\n",
    "while rps :\n",
    "\n",
    "    #player_choice\n",
    "    player = input(\"Enter your choice (rock/paper/scissors): \")\n",
    "    player = player.lower()\n",
    "    while (player != \"rock\" and player != \"paper\" and player != \"scissors\"):\n",
    "        player = input(\"Enter your choice (rock/paper/scissors): \")\n",
    "        player = player.lower()\n",
    "\n",
    "    #computer_random\n",
    "    computer = random.randint(1,3)\n",
    "    if (computer == 1):\n",
    "        computer = \"rock\"\n",
    "    elif (computer == 2):\n",
    "        computer = \"paper\"\n",
    "    elif (computer == 3):\n",
    "        computer = \"scissors\"\n",
    "    else:\n",
    "        print (\"Error. Enter your choice from rock, paper, scissors.\")\n",
    "\n",
    "    #result\n",
    "    if (player == computer):\n",
    "        print(\"you picked \" +str(player) +\"; Computer picked \" + str(computer) +\"; tie!\");\n",
    "    elif (player == \"rock\"):\n",
    "        if (computer == \"paper\"):\n",
    "            print(\"you picked \" +str(player) +\"; Computer picked \" + str(computer) +\"; +1 for You\");\n",
    "        if (computer == \"scissors\"):\n",
    "            print(\"you picked \" +str(player) +\"; Computer picked \" + str(computer) +\"; +1 for computer\");\n",
    "    elif (player == \"paper\"):\n",
    "        if (computer == \"rock\"):\n",
    "            print(\"you picked \" +str(player) +\"; Computer picked \" + str(computer) +\"; +1 for You\");\n",
    "        if (computer == \"scissors\"):\n",
    "            print(\"you picked \" +str(player) +\"; Computer picked \" + str(computer) +\"; +1 for computer\");\n",
    "    elif (player == \"scissors\"):\n",
    "        if (computer == \"rock\"):\n",
    "            print(\"you picked \" +str(player) +\"; Computer picked \" + str(computer) +\"; +1 for computer\");\n",
    "        if (computer == \"paper\"):\n",
    "            print(\"you picked \" +str(player) +\"; Computer picked \" + str(computer) +\"; +1 for You\");\n",
    "\n",
    "\n",
    "    #restart\n",
    "    userInput = input(\"Finish? Yes or No: \")\n",
    "    userInput = userInput.lower()\n",
    "    if (userInput == \"yes\"):\n",
    "        rps = False\n",
    "        print (\"See you again.\")\n",
    "    else:\n",
    "        rps = True"
   ]
  },
  {
   "cell_type": "code",
   "execution_count": null,
   "metadata": {
    "collapsed": true
   },
   "outputs": [],
   "source": []
  }
 ],
 "metadata": {
  "anaconda-cloud": {},
  "kernelspec": {
   "display_name": "Python [default]",
   "language": "python",
   "name": "python3"
  },
  "language_info": {
   "codemirror_mode": {
    "name": "ipython",
    "version": 3
   },
   "file_extension": ".py",
   "mimetype": "text/x-python",
   "name": "python",
   "nbconvert_exporter": "python",
   "pygments_lexer": "ipython3",
   "version": "3.5.2"
  }
 },
 "nbformat": 4,
 "nbformat_minor": 2
}
