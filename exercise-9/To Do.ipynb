{
 "cells": [
  {
   "cell_type": "markdown",
   "metadata": {},
   "source": [
    "1.How many fossils are included in the dataset?\n",
    "\n",
    "wc -l canid_occ.csv               2947. fossils.\n",
    "\n",
    "2.How many fossils have been identified to genus-level only? How many to species-level?\n",
    "\n",
    "cut -d ',' -f 7 canid_occ.csv|grep -e \"genus\"|wc -l           614. genus-level.\n",
    "\n",
    "\n",
    "\n",
    "cut -d ',' -f 7 canid_occ.csv|grep -e \"species\"|wc -l    . 2107 species-level.\n",
    "\n",
    "\n",
    "3.How many unique accepted names are part of this dataset?\n",
    "\n"
   ]
  },
  {
   "cell_type": "code",
   "execution_count": 1,
   "metadata": {
    "collapsed": false
   },
   "outputs": [
    {
     "ename": "IndentationError",
     "evalue": "unexpected indent (<ipython-input-1-9c5e22197e2b>, line 2)",
     "output_type": "error",
     "traceback": [
      "\u001b[0;36m  File \u001b[0;32m\"<ipython-input-1-9c5e22197e2b>\"\u001b[0;36m, line \u001b[0;32m2\u001b[0m\n\u001b[0;31m    get_ipython().set_next_input('    How can we change the sampling frequency of our PyRate run');get_ipython().magic('pinfo run')\u001b[0m\n\u001b[0m    ^\u001b[0m\n\u001b[0;31mIndentationError\u001b[0m\u001b[0;31m:\u001b[0m unexpected indent\n"
     ]
    }
   ],
   "source": [
    "How can we change the sampling frequency of our PyRate run?\n",
    "\n",
    "What does the -n flag achieve?\n"
   ]
  },
  {
   "cell_type": "code",
   "execution_count": null,
   "metadata": {
    "collapsed": true
   },
   "outputs": [],
   "source": [
    "In your jupyter notebook above, write a summary of what each of these three files in pyrate_mcmc_logs show. \n",
    "You can find explanations on the PyRate github page."
   ]
  },
  {
   "cell_type": "code",
   "execution_count": null,
   "metadata": {
    "collapsed": true
   },
   "outputs": [],
   "source": []
  }
 ],
 "metadata": {
  "anaconda-cloud": {},
  "kernelspec": {
   "display_name": "Python [default]",
   "language": "python",
   "name": "python3"
  },
  "language_info": {
   "codemirror_mode": {
    "name": "ipython",
    "version": 3
   },
   "file_extension": ".py",
   "mimetype": "text/x-python",
   "name": "python",
   "nbconvert_exporter": "python",
   "pygments_lexer": "ipython3",
   "version": "3.5.2"
  }
 },
 "nbformat": 4,
 "nbformat_minor": 2
}
