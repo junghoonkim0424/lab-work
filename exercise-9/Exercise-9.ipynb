{
 "cells": [
  {
   "cell_type": "markdown",
   "metadata": {},
   "source": [
    "1.How many fossils are included in the dataset?\n",
    "\n",
    "tail -n+2 canid_occ.csv | wc -l\n",
    "\n",
    "2946 fossils.\n",
    "\n",
    "\n",
    "2.How many fossils have been identified to genus-level only? How many to species-level?\n",
    "\n",
    "tail -n+2 canid_occ.csv | cut -d \",\" -f \"7\" | sort | uniq -c   \n",
    "\n",
    "It has 607 genus and 2106 species respectively.\n",
    "\n",
    "\n",
    "\n",
    "3.How many unique accepted names are part of this dataset?\n",
    "\n",
    "tail -n+2 canid_occ.csv | cut -d \",\" -f \"6\" | sort | uniq | wc -l\n",
    "\n",
    "211 unique names.\n"
   ]
  },
  {
   "cell_type": "markdown",
   "metadata": {
    "collapsed": false
   },
   "source": [
    "How can we change the sampling frequency of our PyRate run?\n",
    "\n",
    "command -s 1000 helps to modulate. type in desired frequency after this command.\n",
    "\n",
    "What does the -n flag achieve?\n",
    "\n",
    "-n 10000000 function as mcmc generations."
   ]
  },
  {
   "cell_type": "markdown",
   "metadata": {
    "collapsed": true
   },
   "source": [
    "In your jupyter notebook above, write a summary of what each of these three files in pyrate_mcmc_logs show. \n",
    "You can find explanations on the PyRate github page.\n",
    "\n",
    "canid_occ_1_marginal_rates.log file indicates that it is\n",
    "Tab-separated table with the posterior samples of the marginal rates of speciation, extinction, \n",
    "and net diversification, calculated within 1 time unit (typically Myr).\n",
    "\n",
    "canid_occ_1_mcmc.log is a tap-separated table with MCMC samples of the posterior, prior, likelihoods of the\n",
    "all the parameters which are relevant.\n",
    "\n",
    "canid_occ_1_sum.txt is text file providing the complete list of settings used in the analysis.\n"
   ]
  },
  {
   "cell_type": "markdown",
   "metadata": {},
   "source": [
    "Homework\n",
    "\n",
    "Open the RTT plots that you created during this exercise. \n",
    "In your Jupyter notebook, answer the following questions:\n",
    "    \n",
    "a. Describe the changes in Speciation rates across the Canidae lineage.\n",
    "\n",
    "speciation decreased in 20 to 21 Mya and then increases very rapidly in the age around 4Mya.\n",
    "\n",
    "b. Describe the changes in Extinction rates across the Canidae lineage. \n",
    "\n",
    "Extinction rate is very low at first but increases very rapidly at close to current age.\n",
    "\n",
    "c. Describe the changes in Diversification rates across the Canidae lineage.\n",
    "\n",
    "total diversification is positive until current age and then diversification decreased to negative.\n",
    "\n",
    "\n",
    "Create RTT plots for this new run. Do you see anything different about\n",
    "these RTT plots compared to the ones you had made with only 250000 steps in the MCMC chain?\n",
    "\n",
    "since there is bigger data, graph seems longer. but patterns of speciation, extinction, and diversification\n",
    "seem similar. The larger graph gives more detailed and accurate data to show which point it starts decreasing or increasing. For instance, speciation graph showing more detail when the graph start decreasing from increasing point. I found 31Mya from the bigger pool graph."
   ]
  }
 ],
 "metadata": {
  "anaconda-cloud": {},
  "kernelspec": {
   "display_name": "Python [default]",
   "language": "python",
   "name": "python3"
  },
  "language_info": {
   "codemirror_mode": {
    "name": "ipython",
    "version": 3
   },
   "file_extension": ".py",
   "mimetype": "text/x-python",
   "name": "python",
   "nbconvert_exporter": "python",
   "pygments_lexer": "ipython3",
   "version": "3.5.2"
  }
 },
 "nbformat": 4,
 "nbformat_minor": 2
}
