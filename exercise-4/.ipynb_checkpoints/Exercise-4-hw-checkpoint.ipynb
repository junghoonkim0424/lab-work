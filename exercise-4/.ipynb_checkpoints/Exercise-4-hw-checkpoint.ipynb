{
 "cells": [
  {
   "cell_type": "code",
   "execution_count": 1,
   "metadata": {
    "collapsed": false
   },
   "outputs": [
    {
     "ename": "SyntaxError",
     "evalue": "invalid syntax (<ipython-input-1-f48fb20b742c>, line 3)",
     "output_type": "error",
     "traceback": [
      "\u001b[0;36m  File \u001b[0;32m\"<ipython-input-1-f48fb20b742c>\"\u001b[0;36m, line \u001b[0;32m3\u001b[0m\n\u001b[0;31m    1. Write a for-loop that prints out the numbers from 100 to 110.\u001b[0m\n\u001b[0m           ^\u001b[0m\n\u001b[0;31mSyntaxError\u001b[0m\u001b[0;31m:\u001b[0m invalid syntax\n"
     ]
    }
   ],
   "source": [
    "## Homework\n",
    "\n",
    "1. Write a for-loop that prints out the numbers from 100 to 110.\n",
    "\n",
    "2. Write a while- loop that prints out the numbers from 100 to 110.  \n",
    "\n",
    "3. Write a loop that prints out the squares of the numbers from 10-15. This can be a for or a while loop.\n",
    "\n",
    "4. Write a loop that iterates over the list [\"Scooby\", \"Shaggy\", \"Velma\", \"Daphne\", \"Fred\"] and for each character prints the statement \"XXX is a character in that most glorious of cartoons, Scooby Doo\". \n",
    "\n",
    "5. Write a function that meets the following criteria:\n",
    "\n",
    "<pre>\n",
    "1. The function must be named \"fact_or_sum\"   \n",
    "2. The function must take in one input, which must be an integer. If the user inputs a string, the function should return an error message.\n",
    "3. If the input integer is 0, the function returns the number 0.  \n",
    "4. If the input integer is an odd number, the function returns the factorial of the number. \n",
    "4a. A factorial is computed as the product of a number and each integer below that number, until 1 (e.g. n*(n-1)*(n-2)...*1)\n",
    "5. The factorial MUST be computed with a for loop. \n",
    "6. If the input integer is an even number, the function returns the sum of that number and all numbers below it, until 1 (e.g. n+(n-1)+(n-2)...+1).\n",
    "6a. The sum must be computed with a while loop.\n",
    "</pre>"
   ]
  },
  {
   "cell_type": "code",
   "execution_count": 2,
   "metadata": {
    "collapsed": false
   },
   "outputs": [
    {
     "name": "stdout",
     "output_type": "stream",
     "text": [
      "100\n",
      "101\n",
      "102\n",
      "103\n",
      "104\n",
      "105\n",
      "106\n",
      "107\n",
      "108\n",
      "109\n",
      "110\n"
     ]
    }
   ],
   "source": [
    "#1 \n",
    "for number in range(100, 111):\n",
    "    print(number)\n"
   ]
  },
  {
   "cell_type": "code",
   "execution_count": 3,
   "metadata": {
    "collapsed": false
   },
   "outputs": [
    {
     "name": "stdout",
     "output_type": "stream",
     "text": [
      "100\n",
      "101\n",
      "102\n",
      "103\n",
      "104\n",
      "105\n",
      "106\n",
      "107\n",
      "108\n",
      "109\n",
      "110\n"
     ]
    }
   ],
   "source": [
    "#2 \n",
    "number = 100;\n",
    "while number <111:\n",
    "    print(number)\n",
    "    number=number +1"
   ]
  },
  {
   "cell_type": "code",
   "execution_count": 4,
   "metadata": {
    "collapsed": false
   },
   "outputs": [
    {
     "name": "stdout",
     "output_type": "stream",
     "text": [
      "100\n",
      "121\n",
      "144\n",
      "169\n",
      "196\n",
      "225\n"
     ]
    }
   ],
   "source": [
    "#3. Write a loop that prints out the squares of the numbers from 10-15. This can be a for or a while loop.\n",
    "for number in (range(10,16)):\n",
    "    print(number**2)"
   ]
  },
  {
   "cell_type": "code",
   "execution_count": 5,
   "metadata": {
    "collapsed": false
   },
   "outputs": [
    {
     "name": "stdout",
     "output_type": "stream",
     "text": [
      "scooby is a character in that most glorious of cartoons, Scooby Doo\n",
      "Shaggy is a character in that most glorious of cartoons, Scooby Doo\n",
      "Velma is a character in that most glorious of cartoons, Scooby Doo\n",
      "Daphne is a character in that most glorious of cartoons, Scooby Doo\n",
      "Fred is a character in that most glorious of cartoons, Scooby Doo\n"
     ]
    }
   ],
   "source": [
    "#Write a loop that iterates over the list [\"Scooby\", \"Shaggy\", \"Velma\", \"Daphne\", \"Fred\"] and for each character prints the statement \"XXX is a character in that most glorious of cartoons, Scooby Doo\".\n",
    "name=[\"scooby\", \"Shaggy\", \"Velma\", \"Daphne\", \"Fred\"]\n",
    "for character in name:\n",
    "    print(str(character) + \" is a character in that most glorious of cartoons, Scooby Doo\")"
   ]
  },
  {
   "cell_type": "code",
   "execution_count": 18,
   "metadata": {
    "collapsed": false
   },
   "outputs": [
    {
     "name": "stdout",
     "output_type": "stream",
     "text": [
      "0\n"
     ]
    }
   ],
   "source": [
    "#fact_or_sum\n",
    "def fact_or_sum(number):\n",
    "    if (type(number) != int):\n",
    "        print(\"ERROR!\")\n",
    "    elif number == 0:\n",
    "        return 0\n",
    "    elif number % 2 == 1:\n",
    "        answer=1\n",
    "        for n in range(number,1,-1):\n",
    "            answer*= n\n",
    "        return answer        \n",
    "    else:\n",
    "        answer=0\n",
    "        while number >= 1:\n",
    "            answer += number\n",
    "            number -=1\n",
    "        return answer\n",
    "    \n",
    "print(fact_or_sum(0))\n",
    "#print(fact_or_sum(1000))\n",
    "#fact_or_sum(\"jung\")"
   ]
  },
  {
   "cell_type": "code",
   "execution_count": null,
   "metadata": {
    "collapsed": true
   },
   "outputs": [],
   "source": []
  }
 ],
 "metadata": {
  "anaconda-cloud": {},
  "kernelspec": {
   "display_name": "Python [default]",
   "language": "python",
   "name": "python3"
  },
  "language_info": {
   "codemirror_mode": {
    "name": "ipython",
    "version": 3
   },
   "file_extension": ".py",
   "mimetype": "text/x-python",
   "name": "python",
   "nbconvert_exporter": "python",
   "pygments_lexer": "ipython3",
   "version": "3.5.2"
  }
 },
 "nbformat": 4,
 "nbformat_minor": 2
}
